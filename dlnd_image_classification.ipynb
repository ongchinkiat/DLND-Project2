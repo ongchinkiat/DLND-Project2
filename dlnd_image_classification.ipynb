{
 "cells": [
  {
   "cell_type": "markdown",
   "metadata": {
    "collapsed": true,
    "deletable": true,
    "editable": true
   },
   "source": [
    "# Image Classification\n",
    "In this project, you'll classify images from the [CIFAR-10 dataset](https://www.cs.toronto.edu/~kriz/cifar.html).  The dataset consists of airplanes, dogs, cats, and other objects. You'll preprocess the images, then train a convolutional neural network on all the samples. The images need to be normalized and the labels need to be one-hot encoded.  You'll get to apply what you learned and build a convolutional, max pooling, dropout, and fully connected layers.  At the end, you'll get to see your neural network's predictions on the sample images.\n",
    "## Get the Data\n",
    "Run the following cell to download the [CIFAR-10 dataset for python](https://www.cs.toronto.edu/~kriz/cifar-10-python.tar.gz)."
   ]
  },
  {
   "cell_type": "code",
   "execution_count": 1,
   "metadata": {
    "collapsed": false,
    "deletable": true,
    "editable": true
   },
   "outputs": [
    {
     "name": "stdout",
     "output_type": "stream",
     "text": [
      "All files found!\n"
     ]
    }
   ],
   "source": [
    "\"\"\"\n",
    "DON'T MODIFY ANYTHING IN THIS CELL THAT IS BELOW THIS LINE\n",
    "\"\"\"\n",
    "from urllib.request import urlretrieve\n",
    "from os.path import isfile, isdir\n",
    "from tqdm import tqdm\n",
    "import problem_unittests as tests\n",
    "import tarfile\n",
    "\n",
    "cifar10_dataset_folder_path = 'cifar-10-batches-py'\n",
    "\n",
    "# Use Floyd's cifar-10 dataset if present\n",
    "floyd_cifar10_location = '/input/cifar-10/python.tar.gz'\n",
    "if isfile(floyd_cifar10_location):\n",
    "    tar_gz_path = floyd_cifar10_location\n",
    "else:\n",
    "    tar_gz_path = 'cifar-10-python.tar.gz'\n",
    "\n",
    "class DLProgress(tqdm):\n",
    "    last_block = 0\n",
    "\n",
    "    def hook(self, block_num=1, block_size=1, total_size=None):\n",
    "        self.total = total_size\n",
    "        self.update((block_num - self.last_block) * block_size)\n",
    "        self.last_block = block_num\n",
    "\n",
    "if not isfile(tar_gz_path):\n",
    "    with DLProgress(unit='B', unit_scale=True, miniters=1, desc='CIFAR-10 Dataset') as pbar:\n",
    "        urlretrieve(\n",
    "            'https://www.cs.toronto.edu/~kriz/cifar-10-python.tar.gz',\n",
    "            tar_gz_path,\n",
    "            pbar.hook)\n",
    "\n",
    "if not isdir(cifar10_dataset_folder_path):\n",
    "    with tarfile.open(tar_gz_path) as tar:\n",
    "        tar.extractall()\n",
    "        tar.close()\n",
    "\n",
    "\n",
    "tests.test_folder_path(cifar10_dataset_folder_path)"
   ]
  },
  {
   "cell_type": "markdown",
   "metadata": {
    "deletable": true,
    "editable": true
   },
   "source": [
    "## Explore the Data\n",
    "The dataset is broken into batches to prevent your machine from running out of memory.  The CIFAR-10 dataset consists of 5 batches, named `data_batch_1`, `data_batch_2`, etc.. Each batch contains the labels and images that are one of the following:\n",
    "* airplane\n",
    "* automobile\n",
    "* bird\n",
    "* cat\n",
    "* deer\n",
    "* dog\n",
    "* frog\n",
    "* horse\n",
    "* ship\n",
    "* truck\n",
    "\n",
    "Understanding a dataset is part of making predictions on the data.  Play around with the code cell below by changing the `batch_id` and `sample_id`. The `batch_id` is the id for a batch (1-5). The `sample_id` is the id for a image and label pair in the batch.\n",
    "\n",
    "Ask yourself \"What are all possible labels?\", \"What is the range of values for the image data?\", \"Are the labels in order or random?\".  Answers to questions like these will help you preprocess the data and end up with better predictions."
   ]
  },
  {
   "cell_type": "code",
   "execution_count": 2,
   "metadata": {
    "collapsed": false,
    "deletable": true,
    "editable": true
   },
   "outputs": [
    {
     "name": "stdout",
     "output_type": "stream",
     "text": [
      "\n",
      "Stats of batch 1:\n",
      "Samples: 10000\n",
      "Label Counts: {0: 1005, 1: 974, 2: 1032, 3: 1016, 4: 999, 5: 937, 6: 1030, 7: 1001, 8: 1025, 9: 981}\n",
      "First 20 Labels: [6, 9, 9, 4, 1, 1, 2, 7, 8, 3, 4, 7, 7, 2, 9, 9, 9, 3, 2, 6]\n",
      "\n",
      "Example of Image 5:\n",
      "Image - Min Value: 0 Max Value: 252\n",
      "Image - Shape: (32, 32, 3)\n",
      "Label - Label Id: 1 Name: automobile\n"
     ]
    },
    {
     "data": {
      "image/png": "[encoded data removed]",
      "text/plain": [
       "<matplotlib.figure.Figure at 0x7fc8a9f847b8>"
      ]
     },
     "metadata": {
      "image/png": {
       "height": 250,
       "width": 253
      }
     },
     "output_type": "display_data"
    }
   ],
   "source": [
    "%matplotlib inline\n",
    "%config InlineBackend.figure_format = 'retina'\n",
    "\n",
    "import helper\n",
    "import numpy as np\n",
    "\n",
    "# Explore the dataset\n",
    "batch_id = 1\n",
    "sample_id = 5\n",
    "helper.display_stats(cifar10_dataset_folder_path, batch_id, sample_id)"
   ]
  },
  {
   "cell_type": "markdown",
   "metadata": {
    "deletable": true,
    "editable": true
   },
   "source": [
    "## Implement Preprocess Functions\n",
    "### Normalize\n",
    "In the cell below, implement the `normalize` function to take in image data, `x`, and return it as a normalized Numpy array. The values should be in the range of 0 to 1, inclusive.  The return object should be the same shape as `x`."
   ]
  },
  {
   "cell_type": "code",
   "execution_count": 3,
   "metadata": {
    "collapsed": false,
    "deletable": true,
    "editable": true
   },
   "outputs": [
    {
     "name": "stdout",
     "output_type": "stream",
     "text": [
      "Tests Passed\n"
     ]
    }
   ],
   "source": [
    "def normalize(x):\n",
    "    \"\"\"\n",
    "    Normalize a list of sample image data in the range of 0 to 1\n",
    "    : x: List of image data.  The image shape is (32, 32, 3)\n",
    "    : return: Numpy array of normalize data\n",
    "    \"\"\"\n",
    "    # TODO: Implement Function\n",
    "    maximum = np.max(x)\n",
    "    minimum = np.min(x)\n",
    "    return (x - minimum) / (maximum - minimum)\n",
    "    #return np.array(x / 255)\n",
    "\n",
    "\n",
    "\"\"\"\n",
    "DON'T MODIFY ANYTHING IN THIS CELL THAT IS BELOW THIS LINE\n",
    "\"\"\"\n",
    "tests.test_normalize(normalize)"
   ]
  },
  {
   "cell_type": "markdown",
   "metadata": {
    "deletable": true,
    "editable": true
   },
   "source": [
    "### One-hot encode\n",
    "Just like the previous code cell, you'll be implementing a function for preprocessing.  This time, you'll implement the `one_hot_encode` function. The input, `x`, are a list of labels.  Implement the function to return the list of labels as One-Hot encoded Numpy array.  The possible values for labels are 0 to 9. The one-hot encoding function should return the same encoding for each value between each call to `one_hot_encode`.  Make sure to save the map of encodings outside the function.\n",
    "\n",
    "Hint: Don't reinvent the wheel."
   ]
  },
  {
   "cell_type": "code",
   "execution_count": 4,
   "metadata": {
    "collapsed": false,
    "deletable": true,
    "editable": true
   },
   "outputs": [
    {
     "name": "stdout",
     "output_type": "stream",
     "text": [
      "Tests Passed\n"
     ]
    }
   ],
   "source": [
    "from sklearn import preprocessing\n",
    "labels = np.arange(10)\n",
    "lb = preprocessing.LabelBinarizer()\n",
    "lb.fit(labels)\n",
    "    \n",
    "def one_hot_encode(x):\n",
    "    \"\"\"\n",
    "    One hot encode a list of sample labels. Return a one-hot encoded vector for each label.\n",
    "    : x: List of sample Labels\n",
    "    : return: Numpy array of one-hot encoded labels\n",
    "    \"\"\"\n",
    "    # TODO: Implement Function\n",
    "    return lb.transform(x)\n",
    "\n",
    "\n",
    "\"\"\"\n",
    "DON'T MODIFY ANYTHING IN THIS CELL THAT IS BELOW THIS LINE\n",
    "\"\"\"\n",
    "tests.test_one_hot_encode(one_hot_encode)"
   ]
  },
  {
   "cell_type": "markdown",
   "metadata": {
    "deletable": true,
    "editable": true
   },
   "source": [
    "### Randomize Data\n",
    "As you saw from exploring the data above, the order of the samples are randomized.  It doesn't hurt to randomize it again, but you don't need to for this dataset."
   ]
  },
  {
   "cell_type": "markdown",
   "metadata": {
    "deletable": true,
    "editable": true
   },
   "source": [
    "## Preprocess all the data and save it\n",
    "Running the code cell below will preprocess all the CIFAR-10 data and save it to file. The code below also uses 10% of the training data for validation."
   ]
  },
  {
   "cell_type": "code",
   "execution_count": 5,
   "metadata": {
    "collapsed": true,
    "deletable": true,
    "editable": true
   },
   "outputs": [],
   "source": [
    "\"\"\"\n",
    "DON'T MODIFY ANYTHING IN THIS CELL\n",
    "\"\"\"\n",
    "# Preprocess Training, Validation, and Testing Data\n",
    "helper.preprocess_and_save_data(cifar10_dataset_folder_path, normalize, one_hot_encode)"
   ]
  },
  {
   "cell_type": "markdown",
   "metadata": {
    "deletable": true,
    "editable": true
   },
   "source": [
    "# Check Point\n",
    "This is your first checkpoint.  If you ever decide to come back to this notebook or have to restart the notebook, you can start from here.  The preprocessed data has been saved to disk."
   ]
  },
  {
   "cell_type": "code",
   "execution_count": 6,
   "metadata": {
    "collapsed": true,
    "deletable": true,
    "editable": true
   },
   "outputs": [],
   "source": [
    "\"\"\"\n",
    "DON'T MODIFY ANYTHING IN THIS CELL\n",
    "\"\"\"\n",
    "import pickle\n",
    "import problem_unittests as tests\n",
    "import helper\n",
    "\n",
    "# Load the Preprocessed Validation data\n",
    "valid_features, valid_labels = pickle.load(open('preprocess_validation.p', mode='rb'))"
   ]
  },
  {
   "cell_type": "markdown",
   "metadata": {
    "deletable": true,
    "editable": true
   },
   "source": [
    "## Build the network\n",
    "For the neural network, you'll build each layer into a function.  Most of the code you've seen has been outside of functions. To test your code more thoroughly, we require that you put each layer in a function.  This allows us to give you better feedback and test for simple mistakes using our unittests before you submit your project.\n",
    "\n",
    ">**Note:** If you're finding it hard to dedicate enough time for this course each week, we've provided a small shortcut to this part of the project. In the next couple of problems, you'll have the option to use classes from the [TensorFlow Layers](https://www.tensorflow.org/api_docs/python/tf/layers) or [TensorFlow Layers (contrib)](https://www.tensorflow.org/api_guides/python/contrib.layers) packages to build each layer, except the layers you build in the \"Convolutional and Max Pooling Layer\" section.  TF Layers is similar to Keras's and TFLearn's abstraction to layers, so it's easy to pickup.\n",
    "\n",
    ">However, if you would like to get the most out of this course, try to solve all the problems _without_ using anything from the TF Layers packages. You **can** still use classes from other packages that happen to have the same name as ones you find in TF Layers! For example, instead of using the TF Layers version of the `conv2d` class, [tf.layers.conv2d](https://www.tensorflow.org/api_docs/python/tf/layers/conv2d), you would want to use the TF Neural Network version of `conv2d`, [tf.nn.conv2d](https://www.tensorflow.org/api_docs/python/tf/nn/conv2d). \n",
    "\n",
    "Let's begin!\n",
    "\n",
    "### Input\n",
    "The neural network needs to read the image data, one-hot encoded labels, and dropout keep probability. Implement the following functions\n",
    "* Implement `neural_net_image_input`\n",
    " * Return a [TF Placeholder](https://www.tensorflow.org/api_docs/python/tf/placeholder)\n",
    " * Set the shape using `image_shape` with batch size set to `None`.\n",
    " * Name the TensorFlow placeholder \"x\" using the TensorFlow `name` parameter in the [TF Placeholder](https://www.tensorflow.org/api_docs/python/tf/placeholder).\n",
    "* Implement `neural_net_label_input`\n",
    " * Return a [TF Placeholder](https://www.tensorflow.org/api_docs/python/tf/placeholder)\n",
    " * Set the shape using `n_classes` with batch size set to `None`.\n",
    " * Name the TensorFlow placeholder \"y\" using the TensorFlow `name` parameter in the [TF Placeholder](https://www.tensorflow.org/api_docs/python/tf/placeholder).\n",
    "* Implement `neural_net_keep_prob_input`\n",
    " * Return a [TF Placeholder](https://www.tensorflow.org/api_docs/python/tf/placeholder) for dropout keep probability.\n",
    " * Name the TensorFlow placeholder \"keep_prob\" using the TensorFlow `name` parameter in the [TF Placeholder](https://www.tensorflow.org/api_docs/python/tf/placeholder).\n",
    "\n",
    "These names will be used at the end of the project to load your saved model.\n",
    "\n",
    "Note: `None` for shapes in TensorFlow allow for a dynamic size."
   ]
  },
  {
   "cell_type": "code",
   "execution_count": 7,
   "metadata": {
    "collapsed": false,
    "deletable": true,
    "editable": true
   },
   "outputs": [
    {
     "name": "stdout",
     "output_type": "stream",
     "text": [
      "Image Input Tests Passed.\n",
      "Label Input Tests Passed.\n",
      "Keep Prob Tests Passed.\n"
     ]
    }
   ],
   "source": [
    "import tensorflow as tf\n",
    "\n",
    "def neural_net_image_input(image_shape):\n",
    "    \"\"\"\n",
    "    Return a Tensor for a batch of image input\n",
    "    : image_shape: Shape of the images\n",
    "    : return: Tensor for image input.\n",
    "    \"\"\"\n",
    "    # TODO: Implement Function\n",
    "    return tf.placeholder(tf.float32, shape=[None, image_shape[0], image_shape[1], image_shape[2]], name='x')\n",
    "\n",
    "\n",
    "def neural_net_label_input(n_classes):\n",
    "    \"\"\"\n",
    "    Return a Tensor for a batch of label input\n",
    "    : n_classes: Number of classes\n",
    "    : return: Tensor for label input.\n",
    "    \"\"\"\n",
    "    # TODO: Implement Function\n",
    "    return tf.placeholder(tf.float32, [None, n_classes], name='y')\n",
    "\n",
    "\n",
    "def neural_net_keep_prob_input():\n",
    "    \"\"\"\n",
    "    Return a Tensor for keep probability\n",
    "    : return: Tensor for keep probability.\n",
    "    \"\"\"\n",
    "    # TODO: Implement Function\n",
    "    return tf.placeholder(tf.float32, name='keep_prob')\n",
    "\n",
    "\n",
    "\"\"\"\n",
    "DON'T MODIFY ANYTHING IN THIS CELL THAT IS BELOW THIS LINE\n",
    "\"\"\"\n",
    "tf.reset_default_graph()\n",
    "tests.test_nn_image_inputs(neural_net_image_input)\n",
    "tests.test_nn_label_inputs(neural_net_label_input)\n",
    "tests.test_nn_keep_prob_inputs(neural_net_keep_prob_input)"
   ]
  },
  {
   "cell_type": "markdown",
   "metadata": {
    "deletable": true,
    "editable": true
   },
   "source": [
    "### Convolution and Max Pooling Layer\n",
    "Convolution layers have a lot of success with images. For this code cell, you should implement the function `conv2d_maxpool` to apply convolution then max pooling:\n",
    "* Create the weight and bias using `conv_ksize`, `conv_num_outputs` and the shape of `x_tensor`.\n",
    "* Apply a convolution to `x_tensor` using weight and `conv_strides`.\n",
    " * We recommend you use same padding, but you're welcome to use any padding.\n",
    "* Add bias\n",
    "* Add a nonlinear activation to the convolution.\n",
    "* Apply Max Pooling using `pool_ksize` and `pool_strides`.\n",
    " * We recommend you use same padding, but you're welcome to use any padding.\n",
    "\n",
    "**Note:** You **can't** use [TensorFlow Layers](https://www.tensorflow.org/api_docs/python/tf/layers) or [TensorFlow Layers (contrib)](https://www.tensorflow.org/api_guides/python/contrib.layers) for **this** layer, but you can still use TensorFlow's [Neural Network](https://www.tensorflow.org/api_docs/python/tf/nn) package. You may still use the shortcut option for all the **other** layers."
   ]
  },
  {
   "cell_type": "code",
   "execution_count": 8,
   "metadata": {
    "collapsed": false,
    "deletable": true,
    "editable": true
   },
   "outputs": [
    {
     "name": "stdout",
     "output_type": "stream",
     "text": [
      "Tests Passed\n"
     ]
    }
   ],
   "source": [
    "def conv2d_maxpool(x_tensor, conv_num_outputs, conv_ksize, conv_strides, pool_ksize, pool_strides):\n",
    "    \"\"\"\n",
    "    Apply convolution then max pooling to x_tensor\n",
    "    :param x_tensor: TensorFlow Tensor\n",
    "    :param conv_num_outputs: Number of outputs for the convolutional layer\n",
    "    :param conv_ksize: kernal size 2-D Tuple for the convolutional layer\n",
    "    :param conv_strides: Stride 2-D Tuple for convolution\n",
    "    :param pool_ksize: kernal size 2-D Tuple for pool\n",
    "    :param pool_strides: Stride 2-D Tuple for pool\n",
    "    : return: A tensor that represents convolution and max pooling of x_tensor\n",
    "    \"\"\"\n",
    "    # TODO: Implement Function\n",
    "    xshape = x_tensor.get_shape()\n",
    "    #print(conv_strides)\n",
    "    weight = tf.Variable(tf.truncated_normal([int(xshape[1]),int(xshape[2]),int(xshape[3]),conv_num_outputs], dtype=tf.float32, mean=0.0,\n",
    " stddev=0.05))\n",
    "    bias = tf.Variable(tf.truncated_normal([conv_num_outputs], dtype=tf.float32, mean=0.0, stddev=0.01))\n",
    "    #bias = tf.Variable(tf.zeros([conv_num_outputs]))\n",
    "    x_tensor = tf.nn.conv2d(x_tensor, weight, strides=[1, conv_strides[0], conv_strides[1], 1], padding='SAME')\n",
    "    x_tensor = tf.nn.bias_add(x_tensor, bias)\n",
    "    x_tensor = tf.nn.relu(x_tensor)\n",
    "    x_tensor = tf.nn.max_pool(\n",
    "        x_tensor,\n",
    "        ksize=[1, pool_ksize[0], pool_ksize[1], 1],\n",
    "        strides=[1, pool_strides[0], pool_strides[1], 1],\n",
    "        padding='SAME')\n",
    "    return x_tensor\n",
    "\n",
    "\n",
    "\"\"\"\n",
    "DON'T MODIFY ANYTHING IN THIS CELL THAT IS BELOW THIS LINE\n",
    "\"\"\"\n",
    "tests.test_con_pool(conv2d_maxpool)"
   ]
  },
  {
   "cell_type": "markdown",
   "metadata": {
    "deletable": true,
    "editable": true
   },
   "source": [
    "### Flatten Layer\n",
    "Implement the `flatten` function to change the dimension of `x_tensor` from a 4-D tensor to a 2-D tensor.  The output should be the shape (*Batch Size*, *Flattened Image Size*). Shortcut option: you can use classes from the [TensorFlow Layers](https://www.tensorflow.org/api_docs/python/tf/layers) or [TensorFlow Layers (contrib)](https://www.tensorflow.org/api_guides/python/contrib.layers) packages for this layer. For more of a challenge, only use other TensorFlow packages."
   ]
  },
  {
   "cell_type": "code",
   "execution_count": 9,
   "metadata": {
    "collapsed": false,
    "deletable": true,
    "editable": true
   },
   "outputs": [
    {
     "name": "stdout",
     "output_type": "stream",
     "text": [
      "Tests Passed\n"
     ]
    }
   ],
   "source": [
    "def flatten(x_tensor):\n",
    "    \"\"\"\n",
    "    Flatten x_tensor to (Batch Size, Flattened Image Size)\n",
    "    : x_tensor: A tensor of size (Batch Size, ...), where ... are the image dimensions.\n",
    "    : return: A tensor of size (Batch Size, Flattened Image Size).\n",
    "    \"\"\"\n",
    "    # TODO: Implement Function\n",
    "    xshape = x_tensor.get_shape()\n",
    "    flatten_size = int(xshape[1]) * int(xshape[2]) * int(xshape[3])\n",
    "    # -1 will make it reuse 1st size\n",
    "    x_tensor = tf.reshape(x_tensor, [-1, flatten_size])\n",
    "    return x_tensor\n",
    "\n",
    "\n",
    "\"\"\"\n",
    "DON'T MODIFY ANYTHING IN THIS CELL THAT IS BELOW THIS LINE\n",
    "\"\"\"\n",
    "tests.test_flatten(flatten)"
   ]
  },
  {
   "cell_type": "markdown",
   "metadata": {
    "deletable": true,
    "editable": true
   },
   "source": [
    "### Fully-Connected Layer\n",
    "Implement the `fully_conn` function to apply a fully connected layer to `x_tensor` with the shape (*Batch Size*, *num_outputs*). Shortcut option: you can use classes from the [TensorFlow Layers](https://www.tensorflow.org/api_docs/python/tf/layers) or [TensorFlow Layers (contrib)](https://www.tensorflow.org/api_guides/python/contrib.layers) packages for this layer. For more of a challenge, only use other TensorFlow packages."
   ]
  },
  {
   "cell_type": "code",
   "execution_count": 10,
   "metadata": {
    "collapsed": false,
    "deletable": true,
    "editable": true
   },
   "outputs": [
    {
     "name": "stdout",
     "output_type": "stream",
     "text": [
      "Tests Passed\n"
     ]
    }
   ],
   "source": [
    "def fully_conn(x_tensor, num_outputs):\n",
    "    \"\"\"\n",
    "    Apply a fully connected layer to x_tensor using weight and bias\n",
    "    : x_tensor: A 2-D tensor where the first dimension is batch size.\n",
    "    : num_outputs: The number of output that the new tensor should be.\n",
    "    : return: A 2-D tensor where the second dimension is num_outputs.\n",
    "    \"\"\"\n",
    "    # TODO: Implement Function\n",
    "    xshape = x_tensor.get_shape()\n",
    "    weight_full = tf.Variable(tf.truncated_normal([int(xshape[1]), num_outputs], dtype=tf.float32, mean=0.0, stddev=0.01))\n",
    "    bias_full = tf.Variable(tf.truncated_normal([num_outputs], dtype=tf.float32, mean=0.0, stddev=0.01))\n",
    "    #bias_full = tf.Variable(tf.zeros([num_outputs]))\n",
    "    x_tensor = tf.add(tf.matmul(x_tensor, weight_full), bias_full)\n",
    "    x_tensor = tf.nn.relu(x_tensor)\n",
    "    return x_tensor\n",
    "\n",
    "\n",
    "\"\"\"\n",
    "DON'T MODIFY ANYTHING IN THIS CELL THAT IS BELOW THIS LINE\n",
    "\"\"\"\n",
    "tests.test_fully_conn(fully_conn)"
   ]
  },
  {
   "cell_type": "markdown",
   "metadata": {
    "deletable": true,
    "editable": true
   },
   "source": [
    "### Output Layer\n",
    "Implement the `output` function to apply a fully connected layer to `x_tensor` with the shape (*Batch Size*, *num_outputs*). Shortcut option: you can use classes from the [TensorFlow Layers](https://www.tensorflow.org/api_docs/python/tf/layers) or [TensorFlow Layers (contrib)](https://www.tensorflow.org/api_guides/python/contrib.layers) packages for this layer. For more of a challenge, only use other TensorFlow packages.\n",
    "\n",
    "**Note:** Activation, softmax, or cross entropy should **not** be applied to this."
   ]
  },
  {
   "cell_type": "code",
   "execution_count": 11,
   "metadata": {
    "collapsed": false,
    "deletable": true,
    "editable": true
   },
   "outputs": [
    {
     "name": "stdout",
     "output_type": "stream",
     "text": [
      "Tests Passed\n"
     ]
    }
   ],
   "source": [
    "def output(x_tensor, num_outputs):\n",
    "    \"\"\"\n",
    "    Apply a output layer to x_tensor using weight and bias\n",
    "    : x_tensor: A 2-D tensor where the first dimension is batch size.\n",
    "    : num_outputs: The number of output that the new tensor should be.\n",
    "    : return: A 2-D tensor where the second dimension is num_outputs.\n",
    "    \"\"\"\n",
    "    # TODO: Implement Function\n",
    "    xshape = x_tensor.get_shape()\n",
    "    weight_out = tf.Variable(tf.truncated_normal([int(xshape[1]), num_outputs], dtype=tf.float32, mean=0.0, stddev=0.01))\n",
    "    bias_out = tf.Variable(tf.truncated_normal([num_outputs], dtype=tf.float32, mean=0.0, stddev=0.01))\n",
    "    x_tensor = tf.add(tf.matmul(x_tensor, weight_out), bias_out)\n",
    "   \n",
    "    return x_tensor\n",
    "\n",
    "\n",
    "\"\"\"\n",
    "DON'T MODIFY ANYTHING IN THIS CELL THAT IS BELOW THIS LINE\n",
    "\"\"\"\n",
    "tests.test_output(output)"
   ]
  },
  {
   "cell_type": "markdown",
   "metadata": {
    "deletable": true,
    "editable": true
   },
   "source": [
    "### Create Convolutional Model\n",
    "Implement the function `conv_net` to create a convolutional neural network model. The function takes in a batch of images, `x`, and outputs logits.  Use the layers you created above to create this model:\n",
    "\n",
    "* Apply 1, 2, or 3 Convolution and Max Pool layers\n",
    "* Apply a Flatten Layer\n",
    "* Apply 1, 2, or 3 Fully Connected Layers\n",
    "* Apply an Output Layer\n",
    "* Return the output\n",
    "* Apply [TensorFlow's Dropout](https://www.tensorflow.org/api_docs/python/tf/nn/dropout) to one or more layers in the model using `keep_prob`. "
   ]
  },
  {
   "cell_type": "code",
   "execution_count": 12,
   "metadata": {
    "collapsed": false,
    "deletable": true,
    "editable": true
   },
   "outputs": [
    {
     "name": "stdout",
     "output_type": "stream",
     "text": [
      "Neural Network Built!\n"
     ]
    }
   ],
   "source": [
    "def conv_net(x, keep_prob):\n",
    "    \"\"\"\n",
    "    Create a convolutional neural network model\n",
    "    : x: Placeholder tensor that holds image data.\n",
    "    : keep_prob: Placeholder tensor that hold dropout keep probability.\n",
    "    : return: Tensor that represents logits\n",
    "    \"\"\"\n",
    "    # TODO: Apply 1, 2, or 3 Convolution and Max Pool layers\n",
    "    #    Play around with different number of outputs, kernel size and stride\n",
    "    # Function Definition from Above:\n",
    "    #    conv2d_maxpool(x_tensor, conv_num_outputs, conv_ksize, conv_strides, pool_ksize, pool_strides)\n",
    "    x = conv2d_maxpool(x, 32, (7,7), (2,2), (2,2), (2,2))\n",
    "    x = conv2d_maxpool(x, 64, (5,5), (1,1), (2,2), (2,2))\n",
    "    x = conv2d_maxpool(x, 128, (3,3), (1,1), (2,2), (2,2))\n",
    "\n",
    "    #x = conv2d_maxpool(x, 16, (3,3), (1,1), (2,2), (2,2))\n",
    "    #x = conv2d_maxpool(x, 64, (3,3), (1,1), (2,2), (2,2))\n",
    "    #x = conv2d_maxpool(x, 128, (3,3), (1,1), (2,2), (2,2))\n",
    "\n",
    "\n",
    "    # TODO: Apply a Flatten Layer\n",
    "    # Function Definition from Above:\n",
    "    #   flatten(x_tensor)\n",
    "    x = flatten(x)\n",
    "    \n",
    "    \n",
    "    # TODO: Apply 1, 2, or 3 Fully Connected Layers\n",
    "    #    Play around with different number of outputs\n",
    "    # Function Definition from Above:\n",
    "    #   fully_conn(x_tensor, num_outputs)\n",
    "    x = fully_conn(x, 600)\n",
    "    x = tf.nn.dropout(x, keep_prob)\n",
    "    x = fully_conn(x, 400)\n",
    "    x = tf.nn.dropout(x, keep_prob)\n",
    "    x = fully_conn(x, 300)\n",
    "    \n",
    "    # TODO: Apply an Output Layer\n",
    "    #    Set this to the number of classes\n",
    "    # Function Definition from Above:\n",
    "    #   output(x_tensor, num_outputs)\n",
    "    out = output(x, 10)\n",
    "    \n",
    "    \n",
    "    # TODO: return output\n",
    "    return out\n",
    "\n",
    "\n",
    "\"\"\"\n",
    "DON'T MODIFY ANYTHING IN THIS CELL THAT IS BELOW THIS LINE\n",
    "\"\"\"\n",
    "\n",
    "##############################\n",
    "## Build the Neural Network ##\n",
    "##############################\n",
    "\n",
    "# Remove previous weights, bias, inputs, etc..\n",
    "tf.reset_default_graph()\n",
    "\n",
    "# Inputs\n",
    "x = neural_net_image_input((32, 32, 3))\n",
    "y = neural_net_label_input(10)\n",
    "keep_prob = neural_net_keep_prob_input()\n",
    "\n",
    "# Model\n",
    "logits = conv_net(x, keep_prob)\n",
    "\n",
    "# Name logits Tensor, so that is can be loaded from disk after training\n",
    "logits = tf.identity(logits, name='logits')\n",
    "\n",
    "# Loss and Optimizer\n",
    "cost = tf.reduce_mean(tf.nn.softmax_cross_entropy_with_logits(logits=logits, labels=y))\n",
    "optimizer = tf.train.AdamOptimizer().minimize(cost)\n",
    "\n",
    "# Accuracy\n",
    "correct_pred = tf.equal(tf.argmax(logits, 1), tf.argmax(y, 1))\n",
    "accuracy = tf.reduce_mean(tf.cast(correct_pred, tf.float32), name='accuracy')\n",
    "\n",
    "tests.test_conv_net(conv_net)"
   ]
  },
  {
   "cell_type": "markdown",
   "metadata": {
    "deletable": true,
    "editable": true
   },
   "source": [
    "## Train the Neural Network\n",
    "### Single Optimization\n",
    "Implement the function `train_neural_network` to do a single optimization.  The optimization should use `optimizer` to optimize in `session` with a `feed_dict` of the following:\n",
    "* `x` for image input\n",
    "* `y` for labels\n",
    "* `keep_prob` for keep probability for dropout\n",
    "\n",
    "This function will be called for each batch, so `tf.global_variables_initializer()` has already been called.\n",
    "\n",
    "Note: Nothing needs to be returned. This function is only optimizing the neural network."
   ]
  },
  {
   "cell_type": "code",
   "execution_count": 13,
   "metadata": {
    "collapsed": false,
    "deletable": true,
    "editable": true
   },
   "outputs": [
    {
     "name": "stdout",
     "output_type": "stream",
     "text": [
      "Tests Passed\n"
     ]
    }
   ],
   "source": [
    "def train_neural_network(session, optimizer, keep_probability, feature_batch, label_batch):\n",
    "    \"\"\"\n",
    "    Optimize the session on a batch of images and labels\n",
    "    : session: Current TensorFlow session\n",
    "    : optimizer: TensorFlow optimizer function\n",
    "    : keep_probability: keep probability\n",
    "    : feature_batch: Batch of Numpy image data\n",
    "    : label_batch: Batch of Numpy label data\n",
    "    \"\"\"\n",
    "    # TODO: Implement Function\n",
    "    session.run(optimizer, feed_dict={\n",
    "                x: feature_batch,\n",
    "                y: label_batch,\n",
    "                keep_prob: keep_probability})\n",
    "\n",
    "\n",
    "\"\"\"\n",
    "DON'T MODIFY ANYTHING IN THIS CELL THAT IS BELOW THIS LINE\n",
    "\"\"\"\n",
    "tests.test_train_nn(train_neural_network)"
   ]
  },
  {
   "cell_type": "markdown",
   "metadata": {
    "deletable": true,
    "editable": true
   },
   "source": [
    "### Show Stats\n",
    "Implement the function `print_stats` to print loss and validation accuracy.  Use the global variables `valid_features` and `valid_labels` to calculate validation accuracy.  Use a keep probability of `1.0` to calculate the loss and validation accuracy."
   ]
  },
  {
   "cell_type": "code",
   "execution_count": 14,
   "metadata": {
    "collapsed": true,
    "deletable": true,
    "editable": true
   },
   "outputs": [],
   "source": [
    "def print_stats(session, feature_batch, label_batch, cost, accuracy):\n",
    "    \"\"\"\n",
    "    Print information about loss and validation accuracy\n",
    "    : session: Current TensorFlow session\n",
    "    : feature_batch: Batch of Numpy image data\n",
    "    : label_batch: Batch of Numpy label data\n",
    "    : cost: TensorFlow cost function\n",
    "    : accuracy: TensorFlow accuracy function\n",
    "    \"\"\"\n",
    "    # TODO: Implement Function\n",
    "    loss = session.run(cost, feed_dict={\n",
    "                x: feature_batch,\n",
    "                y: label_batch,\n",
    "                keep_prob: 1.0})\n",
    "    full_accuracy = session.run(accuracy, feed_dict={\n",
    "                x: valid_features,\n",
    "                y: valid_labels,\n",
    "                keep_prob: 1.0})\n",
    "    train_accuracy = session.run(accuracy, feed_dict={\n",
    "                x: feature_batch,\n",
    "                y: label_batch,\n",
    "                keep_prob: 1.0})\n",
    "    print('Loss: {:>10.4f} Validation Accuracy: {:.6f} Train Accuracy: {:.6f}'.format(loss, full_accuracy, train_accuracy))\n",
    "    "
   ]
  },
  {
   "cell_type": "markdown",
   "metadata": {
    "deletable": true,
    "editable": true
   },
   "source": [
    "### Hyperparameters\n",
    "Tune the following parameters:\n",
    "* Set `epochs` to the number of iterations until the network stops learning or start overfitting\n",
    "* Set `batch_size` to the highest number that your machine has memory for.  Most people set them to common sizes of memory:\n",
    " * 64\n",
    " * 128\n",
    " * 256\n",
    " * ...\n",
    "* Set `keep_probability` to the probability of keeping a node using dropout"
   ]
  },
  {
   "cell_type": "code",
   "execution_count": 15,
   "metadata": {
    "collapsed": true,
    "deletable": true,
    "editable": true
   },
   "outputs": [],
   "source": [
    "# TODO: Tune Parameters\n",
    "epochs = 50\n",
    "batch_size = 256\n",
    "keep_probability = 0.5"
   ]
  },
  {
   "cell_type": "markdown",
   "metadata": {
    "deletable": true,
    "editable": true
   },
   "source": [
    "### Train on a Single CIFAR-10 Batch\n",
    "Instead of training the neural network on all the CIFAR-10 batches of data, let's use a single batch. This should save time while you iterate on the model to get a better accuracy.  Once the final validation accuracy is 50% or greater, run the model on all the data in the next section."
   ]
  },
  {
   "cell_type": "code",
   "execution_count": 16,
   "metadata": {
    "collapsed": false,
    "deletable": true,
    "editable": true
   },
   "outputs": [
    {
     "name": "stdout",
     "output_type": "stream",
     "text": [
      "Checking the Training on a Single Batch...\n",
      "Epoch  1, CIFAR-10 Batch 1:  Loss:     2.2605 Validation Accuracy: 0.142400 Train Accuracy: 0.175000\n",
      "Epoch  2, CIFAR-10 Batch 1:  Loss:     2.1988 Validation Accuracy: 0.182400 Train Accuracy: 0.200000\n",
      "Epoch  3, CIFAR-10 Batch 1:  Loss:     2.0884 Validation Accuracy: 0.202200 Train Accuracy: 0.225000\n",
      "Epoch  4, CIFAR-10 Batch 1:  Loss:     2.0037 Validation Accuracy: 0.214800 Train Accuracy: 0.225000\n",
      "Epoch  5, CIFAR-10 Batch 1:  Loss:     1.8598 Validation Accuracy: 0.263800 Train Accuracy: 0.275000\n",
      "Epoch  6, CIFAR-10 Batch 1:  Loss:     1.7270 Validation Accuracy: 0.294400 Train Accuracy: 0.325000\n",
      "Epoch  7, CIFAR-10 Batch 1:  Loss:     1.6011 Validation Accuracy: 0.314400 Train Accuracy: 0.375000\n",
      "Epoch  8, CIFAR-10 Batch 1:  Loss:     1.4704 Validation Accuracy: 0.336400 Train Accuracy: 0.450000\n",
      "Epoch  9, CIFAR-10 Batch 1:  Loss:     1.3174 Validation Accuracy: 0.331200 Train Accuracy: 0.475000\n",
      "Epoch 10, CIFAR-10 Batch 1:  Loss:     1.1741 Validation Accuracy: 0.357800 Train Accuracy: 0.575000\n",
      "Epoch 11, CIFAR-10 Batch 1:  Loss:     1.0421 Validation Accuracy: 0.359400 Train Accuracy: 0.600000\n",
      "Epoch 12, CIFAR-10 Batch 1:  Loss:     1.1155 Validation Accuracy: 0.344400 Train Accuracy: 0.675000\n",
      "Epoch 13, CIFAR-10 Batch 1:  Loss:     0.8777 Validation Accuracy: 0.376600 Train Accuracy: 0.750000\n",
      "Epoch 14, CIFAR-10 Batch 1:  Loss:     0.9107 Validation Accuracy: 0.373400 Train Accuracy: 0.650000\n",
      "Epoch 15, CIFAR-10 Batch 1:  Loss:     0.7796 Validation Accuracy: 0.369800 Train Accuracy: 0.775000\n",
      "Epoch 16, CIFAR-10 Batch 1:  Loss:     0.7138 Validation Accuracy: 0.405200 Train Accuracy: 0.750000\n",
      "Epoch 17, CIFAR-10 Batch 1:  Loss:     0.7500 Validation Accuracy: 0.364200 Train Accuracy: 0.700000\n",
      "Epoch 18, CIFAR-10 Batch 1:  Loss:     0.6133 Validation Accuracy: 0.409600 Train Accuracy: 0.750000\n",
      "Epoch 19, CIFAR-10 Batch 1:  Loss:     0.5898 Validation Accuracy: 0.397800 Train Accuracy: 0.825000\n",
      "Epoch 20, CIFAR-10 Batch 1:  Loss:     0.4438 Validation Accuracy: 0.410000 Train Accuracy: 0.875000\n",
      "Epoch 21, CIFAR-10 Batch 1:  Loss:     0.4035 Validation Accuracy: 0.392600 Train Accuracy: 0.875000\n",
      "Epoch 22, CIFAR-10 Batch 1:  Loss:     0.3449 Validation Accuracy: 0.424800 Train Accuracy: 0.950000\n",
      "Epoch 23, CIFAR-10 Batch 1:  Loss:     0.3298 Validation Accuracy: 0.386400 Train Accuracy: 0.925000\n",
      "Epoch 24, CIFAR-10 Batch 1:  Loss:     0.3485 Validation Accuracy: 0.399200 Train Accuracy: 0.900000\n",
      "Epoch 25, CIFAR-10 Batch 1:  Loss:     0.3617 Validation Accuracy: 0.412600 Train Accuracy: 0.800000\n",
      "Epoch 26, CIFAR-10 Batch 1:  Loss:     0.3012 Validation Accuracy: 0.405600 Train Accuracy: 0.875000\n",
      "Epoch 27, CIFAR-10 Batch 1:  Loss:     0.2590 Validation Accuracy: 0.418800 Train Accuracy: 0.975000\n",
      "Epoch 28, CIFAR-10 Batch 1:  Loss:     0.2658 Validation Accuracy: 0.417600 Train Accuracy: 0.925000\n",
      "Epoch 29, CIFAR-10 Batch 1:  Loss:     0.2541 Validation Accuracy: 0.407800 Train Accuracy: 0.975000\n",
      "Epoch 30, CIFAR-10 Batch 1:  Loss:     0.2679 Validation Accuracy: 0.401400 Train Accuracy: 0.950000\n",
      "Epoch 31, CIFAR-10 Batch 1:  Loss:     0.1713 Validation Accuracy: 0.404600 Train Accuracy: 0.975000\n",
      "Epoch 32, CIFAR-10 Batch 1:  Loss:     0.1217 Validation Accuracy: 0.419200 Train Accuracy: 0.975000\n",
      "Epoch 33, CIFAR-10 Batch 1:  Loss:     0.1033 Validation Accuracy: 0.424400 Train Accuracy: 1.000000\n",
      "Epoch 34, CIFAR-10 Batch 1:  Loss:     0.0717 Validation Accuracy: 0.419600 Train Accuracy: 1.000000\n",
      "Epoch 35, CIFAR-10 Batch 1:  Loss:     0.0838 Validation Accuracy: 0.408400 Train Accuracy: 1.000000\n",
      "Epoch 36, CIFAR-10 Batch 1:  Loss:     0.0824 Validation Accuracy: 0.410400 Train Accuracy: 1.000000\n",
      "Epoch 37, CIFAR-10 Batch 1:  Loss:     0.1063 Validation Accuracy: 0.409600 Train Accuracy: 0.975000\n",
      "Epoch 38, CIFAR-10 Batch 1:  Loss:     0.0773 Validation Accuracy: 0.424200 Train Accuracy: 1.000000\n",
      "Epoch 39, CIFAR-10 Batch 1:  Loss:     0.0637 Validation Accuracy: 0.405600 Train Accuracy: 1.000000\n",
      "Epoch 40, CIFAR-10 Batch 1:  Loss:     0.0859 Validation Accuracy: 0.412400 Train Accuracy: 1.000000\n",
      "Epoch 41, CIFAR-10 Batch 1:  Loss:     0.0987 Validation Accuracy: 0.410000 Train Accuracy: 0.975000\n",
      "Epoch 42, CIFAR-10 Batch 1:  Loss:     0.0861 Validation Accuracy: 0.420200 Train Accuracy: 0.975000\n",
      "Epoch 43, CIFAR-10 Batch 1:  Loss:     0.0746 Validation Accuracy: 0.415200 Train Accuracy: 0.975000\n",
      "Epoch 44, CIFAR-10 Batch 1:  Loss:     0.0817 Validation Accuracy: 0.426600 Train Accuracy: 1.000000\n",
      "Epoch 45, CIFAR-10 Batch 1:  Loss:     0.0663 Validation Accuracy: 0.406600 Train Accuracy: 1.000000\n",
      "Epoch 46, CIFAR-10 Batch 1:  Loss:     0.0172 Validation Accuracy: 0.426400 Train Accuracy: 1.000000\n",
      "Epoch 47, CIFAR-10 Batch 1:  Loss:     0.0220 Validation Accuracy: 0.424000 Train Accuracy: 1.000000\n",
      "Epoch 48, CIFAR-10 Batch 1:  Loss:     0.0173 Validation Accuracy: 0.423600 Train Accuracy: 1.000000\n",
      "Epoch 49, CIFAR-10 Batch 1:  Loss:     0.0385 Validation Accuracy: 0.435000 Train Accuracy: 1.000000\n",
      "Epoch 50, CIFAR-10 Batch 1:  Loss:     0.0612 Validation Accuracy: 0.431200 Train Accuracy: 0.975000\n"
     ]
    }
   ],
   "source": [
    "import time\n",
    "import math\n",
    "\n",
    "\"\"\"\n",
    "DON'T MODIFY ANYTHING IN THIS CELL\n",
    "\"\"\"\n",
    "print('Checking the Training on a Single Batch...')\n",
    "with tf.Session() as sess:\n",
    "    # Initializing the variables\n",
    "    sess.run(tf.global_variables_initializer())\n",
    "    \n",
    "    # Training cycle\n",
    "    for epoch in range(epochs):\n",
    "        start_time = time.time()\n",
    "        batch_count = 1\n",
    "        total_batch = math.ceil(10000 / batch_size)\n",
    "        batch_i = 1\n",
    "        for batch_features, batch_labels in helper.load_preprocess_training_batch(batch_i, batch_size):\n",
    "            batch_start_time = time.time()\n",
    "            train_neural_network(sess, optimizer, keep_probability, batch_features, batch_labels)\n",
    "            batch_time = time.time() - batch_start_time\n",
    "            exp_min = batch_time * total_batch / 60\n",
    "            remain_min = (total_batch - batch_count + 1) * batch_time / 60\n",
    "            #print('Batch %d of %d Batch Time: %.3f sec. Expected Epoch Time: %.3f min. Left: %.3f min   ' % (batch_count, total_batch, batch_time, exp_min, remain_min), end='\\r')\n",
    "            batch_count += 1\n",
    "        #print('                                                                                          ', end='\\r')\n",
    "        print('Epoch {:>2}, CIFAR-10 Batch {}:  '.format(epoch + 1, batch_i), end='')\n",
    "        train_time = time.time() - start_time\n",
    "        print_stats(sess, batch_features, batch_labels, cost, accuracy)\n",
    "        total_time = time.time() - start_time\n",
    "        stats_time = total_time - train_time\n",
    "        #print('Train time: %.3f, Stats Time: %.3f, Total Time: %.3f' % (train_time/60, stats_time/60, total_time/60))"
   ]
  },
  {
   "cell_type": "markdown",
   "metadata": {
    "deletable": true,
    "editable": true
   },
   "source": [
    "### Fully Train the Model\n",
    "Now that you got a good accuracy with a single CIFAR-10 batch, try it with all five batches."
   ]
  },
  {
   "cell_type": "code",
   "execution_count": 17,
   "metadata": {
    "collapsed": false,
    "deletable": true,
    "editable": true
   },
   "outputs": [
    {
     "name": "stdout",
     "output_type": "stream",
     "text": [
      "Training...\n",
      "Epoch  1, CIFAR-10 Batch 1:  Loss:     2.2135 Validation Accuracy: 0.174200 Train Accuracy: 0.150000\n",
      "Epoch  1, CIFAR-10 Batch 2:  Loss:     2.1192 Validation Accuracy: 0.166200 Train Accuracy: 0.250000\n",
      "Epoch  1, CIFAR-10 Batch 3:  Loss:     1.8426 Validation Accuracy: 0.168400 Train Accuracy: 0.250000\n",
      "Epoch  1, CIFAR-10 Batch 4:  Loss:     1.9494 Validation Accuracy: 0.181400 Train Accuracy: 0.175000\n",
      "Epoch  1, CIFAR-10 Batch 5:  Loss:     1.9102 Validation Accuracy: 0.185600 Train Accuracy: 0.225000\n",
      "Epoch  2, CIFAR-10 Batch 1:  Loss:     2.0823 Validation Accuracy: 0.237400 Train Accuracy: 0.200000\n",
      "Epoch  2, CIFAR-10 Batch 2:  Loss:     1.9122 Validation Accuracy: 0.255600 Train Accuracy: 0.275000\n",
      "Epoch  2, CIFAR-10 Batch 3:  Loss:     1.6294 Validation Accuracy: 0.250400 Train Accuracy: 0.375000\n",
      "Epoch  2, CIFAR-10 Batch 4:  Loss:     1.6715 Validation Accuracy: 0.311600 Train Accuracy: 0.375000\n",
      "Epoch  2, CIFAR-10 Batch 5:  Loss:     1.6087 Validation Accuracy: 0.326200 Train Accuracy: 0.350000\n",
      "Epoch  3, CIFAR-10 Batch 1:  Loss:     1.8433 Validation Accuracy: 0.326800 Train Accuracy: 0.300000\n",
      "Epoch  3, CIFAR-10 Batch 2:  Loss:     1.7350 Validation Accuracy: 0.342000 Train Accuracy: 0.325000\n",
      "Epoch  3, CIFAR-10 Batch 3:  Loss:     1.3939 Validation Accuracy: 0.372000 Train Accuracy: 0.500000\n",
      "Epoch  3, CIFAR-10 Batch 4:  Loss:     1.5545 Validation Accuracy: 0.370400 Train Accuracy: 0.425000\n",
      "Epoch  3, CIFAR-10 Batch 5:  Loss:     1.5454 Validation Accuracy: 0.402400 Train Accuracy: 0.425000\n",
      "Epoch  4, CIFAR-10 Batch 1:  Loss:     1.7094 Validation Accuracy: 0.397200 Train Accuracy: 0.400000\n",
      "Epoch  4, CIFAR-10 Batch 2:  Loss:     1.6130 Validation Accuracy: 0.403400 Train Accuracy: 0.375000\n",
      "Epoch  4, CIFAR-10 Batch 3:  Loss:     1.2978 Validation Accuracy: 0.420800 Train Accuracy: 0.550000\n",
      "Epoch  4, CIFAR-10 Batch 4:  Loss:     1.3082 Validation Accuracy: 0.436400 Train Accuracy: 0.500000\n",
      "Epoch  4, CIFAR-10 Batch 5:  Loss:     1.4074 Validation Accuracy: 0.439200 Train Accuracy: 0.500000\n",
      "Epoch  5, CIFAR-10 Batch 1:  Loss:     1.4804 Validation Accuracy: 0.426200 Train Accuracy: 0.550000\n",
      "Epoch  5, CIFAR-10 Batch 2:  Loss:     1.3187 Validation Accuracy: 0.419200 Train Accuracy: 0.525000\n",
      "Epoch  5, CIFAR-10 Batch 3:  Loss:     1.0208 Validation Accuracy: 0.448400 Train Accuracy: 0.650000\n",
      "Epoch  5, CIFAR-10 Batch 4:  Loss:     1.1807 Validation Accuracy: 0.455000 Train Accuracy: 0.525000\n",
      "Epoch  5, CIFAR-10 Batch 5:  Loss:     1.2307 Validation Accuracy: 0.445400 Train Accuracy: 0.525000\n",
      "Epoch  6, CIFAR-10 Batch 1:  Loss:     1.3129 Validation Accuracy: 0.451200 Train Accuracy: 0.550000\n",
      "Epoch  6, CIFAR-10 Batch 2:  Loss:     1.0941 Validation Accuracy: 0.456200 Train Accuracy: 0.625000\n",
      "Epoch  6, CIFAR-10 Batch 3:  Loss:     0.9377 Validation Accuracy: 0.469400 Train Accuracy: 0.650000\n",
      "Epoch  6, CIFAR-10 Batch 4:  Loss:     0.9606 Validation Accuracy: 0.469000 Train Accuracy: 0.650000\n",
      "Epoch  6, CIFAR-10 Batch 5:  Loss:     1.0043 Validation Accuracy: 0.471600 Train Accuracy: 0.700000\n",
      "Epoch  7, CIFAR-10 Batch 1:  Loss:     1.0857 Validation Accuracy: 0.475000 Train Accuracy: 0.650000\n",
      "Epoch  7, CIFAR-10 Batch 2:  Loss:     0.8426 Validation Accuracy: 0.478400 Train Accuracy: 0.750000\n",
      "Epoch  7, CIFAR-10 Batch 3:  Loss:     0.8004 Validation Accuracy: 0.477000 Train Accuracy: 0.700000\n",
      "Epoch  7, CIFAR-10 Batch 4:  Loss:     0.8792 Validation Accuracy: 0.472800 Train Accuracy: 0.725000\n",
      "Epoch  7, CIFAR-10 Batch 5:  Loss:     0.9480 Validation Accuracy: 0.473400 Train Accuracy: 0.700000\n",
      "Epoch  8, CIFAR-10 Batch 1:  Loss:     0.9430 Validation Accuracy: 0.492200 Train Accuracy: 0.675000\n",
      "Epoch  8, CIFAR-10 Batch 2:  Loss:     0.8099 Validation Accuracy: 0.461800 Train Accuracy: 0.800000\n",
      "Epoch  8, CIFAR-10 Batch 3:  Loss:     0.6559 Validation Accuracy: 0.475800 Train Accuracy: 0.875000\n",
      "Epoch  8, CIFAR-10 Batch 4:  Loss:     0.7755 Validation Accuracy: 0.496000 Train Accuracy: 0.725000\n",
      "Epoch  8, CIFAR-10 Batch 5:  Loss:     0.7897 Validation Accuracy: 0.492800 Train Accuracy: 0.775000\n",
      "Epoch  9, CIFAR-10 Batch 1:  Loss:     0.9140 Validation Accuracy: 0.493200 Train Accuracy: 0.700000\n",
      "Epoch  9, CIFAR-10 Batch 2:  Loss:     0.6351 Validation Accuracy: 0.477200 Train Accuracy: 0.825000\n",
      "Epoch  9, CIFAR-10 Batch 3:  Loss:     0.5490 Validation Accuracy: 0.492200 Train Accuracy: 0.875000\n",
      "Epoch  9, CIFAR-10 Batch 4:  Loss:     0.7002 Validation Accuracy: 0.504600 Train Accuracy: 0.725000\n",
      "Epoch  9, CIFAR-10 Batch 5:  Loss:     0.6460 Validation Accuracy: 0.512800 Train Accuracy: 0.825000\n",
      "Epoch 10, CIFAR-10 Batch 1:  Loss:     0.8010 Validation Accuracy: 0.513200 Train Accuracy: 0.700000\n",
      "Epoch 10, CIFAR-10 Batch 2:  Loss:     0.5401 Validation Accuracy: 0.483400 Train Accuracy: 0.875000\n",
      "Epoch 10, CIFAR-10 Batch 3:  Loss:     0.4817 Validation Accuracy: 0.490600 Train Accuracy: 0.875000\n",
      "Epoch 10, CIFAR-10 Batch 4:  Loss:     0.6564 Validation Accuracy: 0.496400 Train Accuracy: 0.825000\n",
      "Epoch 10, CIFAR-10 Batch 5:  Loss:     0.5946 Validation Accuracy: 0.510000 Train Accuracy: 0.850000\n",
      "Epoch 11, CIFAR-10 Batch 1:  Loss:     0.6772 Validation Accuracy: 0.508200 Train Accuracy: 0.700000\n",
      "Epoch 11, CIFAR-10 Batch 2:  Loss:     0.4938 Validation Accuracy: 0.513200 Train Accuracy: 0.900000\n",
      "Epoch 11, CIFAR-10 Batch 3:  Loss:     0.4730 Validation Accuracy: 0.506600 Train Accuracy: 0.875000\n",
      "Epoch 11, CIFAR-10 Batch 4:  Loss:     0.6435 Validation Accuracy: 0.489200 Train Accuracy: 0.850000\n",
      "Epoch 11, CIFAR-10 Batch 5:  Loss:     0.4924 Validation Accuracy: 0.515000 Train Accuracy: 0.850000\n",
      "Epoch 12, CIFAR-10 Batch 1:  Loss:     0.7299 Validation Accuracy: 0.500600 Train Accuracy: 0.725000\n",
      "Epoch 12, CIFAR-10 Batch 2:  Loss:     0.4771 Validation Accuracy: 0.489800 Train Accuracy: 0.900000\n",
      "Epoch 12, CIFAR-10 Batch 3:  Loss:     0.4244 Validation Accuracy: 0.506200 Train Accuracy: 0.900000\n",
      "Epoch 12, CIFAR-10 Batch 4:  Loss:     0.5230 Validation Accuracy: 0.499800 Train Accuracy: 0.875000\n",
      "Epoch 12, CIFAR-10 Batch 5:  Loss:     0.5648 Validation Accuracy: 0.492200 Train Accuracy: 0.900000\n",
      "Epoch 13, CIFAR-10 Batch 1:  Loss:     0.6521 Validation Accuracy: 0.483400 Train Accuracy: 0.850000\n",
      "Epoch 13, CIFAR-10 Batch 2:  Loss:     0.4999 Validation Accuracy: 0.508400 Train Accuracy: 0.850000\n",
      "Epoch 13, CIFAR-10 Batch 3:  Loss:     0.3247 Validation Accuracy: 0.515800 Train Accuracy: 0.900000\n",
      "Epoch 13, CIFAR-10 Batch 4:  Loss:     0.4783 Validation Accuracy: 0.504800 Train Accuracy: 0.925000\n",
      "Epoch 13, CIFAR-10 Batch 5:  Loss:     0.4051 Validation Accuracy: 0.496000 Train Accuracy: 0.950000\n",
      "Epoch 14, CIFAR-10 Batch 1:  Loss:     0.5691 Validation Accuracy: 0.493000 Train Accuracy: 0.775000\n",
      "Epoch 14, CIFAR-10 Batch 2:  Loss:     0.4740 Validation Accuracy: 0.498200 Train Accuracy: 0.900000\n",
      "Epoch 14, CIFAR-10 Batch 3:  Loss:     0.4086 Validation Accuracy: 0.514200 Train Accuracy: 0.925000\n",
      "Epoch 14, CIFAR-10 Batch 4:  Loss:     0.3694 Validation Accuracy: 0.513400 Train Accuracy: 0.900000\n",
      "Epoch 14, CIFAR-10 Batch 5:  Loss:     0.3079 Validation Accuracy: 0.514000 Train Accuracy: 0.950000\n",
      "Epoch 15, CIFAR-10 Batch 1:  Loss:     0.4838 Validation Accuracy: 0.507000 Train Accuracy: 0.875000\n",
      "Epoch 15, CIFAR-10 Batch 2:  Loss:     0.4066 Validation Accuracy: 0.511000 Train Accuracy: 0.875000\n",
      "Epoch 15, CIFAR-10 Batch 3:  Loss:     0.3273 Validation Accuracy: 0.510800 Train Accuracy: 0.950000\n",
      "Epoch 15, CIFAR-10 Batch 4:  Loss:     0.3225 Validation Accuracy: 0.520800 Train Accuracy: 0.925000\n",
      "Epoch 15, CIFAR-10 Batch 5:  Loss:     0.3351 Validation Accuracy: 0.504800 Train Accuracy: 0.975000\n",
      "Epoch 16, CIFAR-10 Batch 1:  Loss:     0.4482 Validation Accuracy: 0.489000 Train Accuracy: 0.900000\n",
      "Epoch 16, CIFAR-10 Batch 2:  Loss:     0.3488 Validation Accuracy: 0.518400 Train Accuracy: 0.900000\n",
      "Epoch 16, CIFAR-10 Batch 3:  Loss:     0.2933 Validation Accuracy: 0.505000 Train Accuracy: 0.950000\n",
      "Epoch 16, CIFAR-10 Batch 4:  Loss:     0.3600 Validation Accuracy: 0.510400 Train Accuracy: 0.900000\n",
      "Epoch 16, CIFAR-10 Batch 5:  Loss:     0.2893 Validation Accuracy: 0.503600 Train Accuracy: 0.925000\n",
      "Epoch 17, CIFAR-10 Batch 1:  Loss:     0.3608 Validation Accuracy: 0.500600 Train Accuracy: 0.925000\n",
      "Epoch 17, CIFAR-10 Batch 2:  Loss:     0.3469 Validation Accuracy: 0.515000 Train Accuracy: 0.925000\n",
      "Epoch 17, CIFAR-10 Batch 3:  Loss:     0.2774 Validation Accuracy: 0.492200 Train Accuracy: 0.975000\n",
      "Epoch 17, CIFAR-10 Batch 4:  Loss:     0.3375 Validation Accuracy: 0.514400 Train Accuracy: 0.925000\n",
      "Epoch 17, CIFAR-10 Batch 5:  Loss:     0.2091 Validation Accuracy: 0.505800 Train Accuracy: 0.950000\n",
      "Epoch 18, CIFAR-10 Batch 1:  Loss:     0.3975 Validation Accuracy: 0.505600 Train Accuracy: 0.875000\n",
      "Epoch 18, CIFAR-10 Batch 2:  Loss:     0.3756 Validation Accuracy: 0.512200 Train Accuracy: 0.925000\n",
      "Epoch 18, CIFAR-10 Batch 3:  Loss:     0.2674 Validation Accuracy: 0.502000 Train Accuracy: 0.925000\n",
      "Epoch 18, CIFAR-10 Batch 4:  Loss:     0.3243 Validation Accuracy: 0.505600 Train Accuracy: 0.950000\n",
      "Epoch 18, CIFAR-10 Batch 5:  Loss:     0.1748 Validation Accuracy: 0.500000 Train Accuracy: 0.950000\n",
      "Epoch 19, CIFAR-10 Batch 1:  Loss:     0.3361 Validation Accuracy: 0.507000 Train Accuracy: 0.950000\n",
      "Epoch 19, CIFAR-10 Batch 2:  Loss:     0.3338 Validation Accuracy: 0.520600 Train Accuracy: 0.950000\n",
      "Epoch 19, CIFAR-10 Batch 3:  Loss:     0.2054 Validation Accuracy: 0.512400 Train Accuracy: 1.000000\n",
      "Epoch 19, CIFAR-10 Batch 4:  Loss:     0.3083 Validation Accuracy: 0.499400 Train Accuracy: 0.975000\n",
      "Epoch 19, CIFAR-10 Batch 5:  Loss:     0.1915 Validation Accuracy: 0.512000 Train Accuracy: 0.975000\n",
      "Epoch 20, CIFAR-10 Batch 1:  Loss:     0.4400 Validation Accuracy: 0.505200 Train Accuracy: 0.800000\n",
      "Epoch 20, CIFAR-10 Batch 2:  Loss:     0.2696 Validation Accuracy: 0.518800 Train Accuracy: 0.975000\n",
      "Epoch 20, CIFAR-10 Batch 3:  Loss:     0.2158 Validation Accuracy: 0.494200 Train Accuracy: 1.000000\n",
      "Epoch 20, CIFAR-10 Batch 4:  Loss:     0.2410 Validation Accuracy: 0.501000 Train Accuracy: 0.975000\n",
      "Epoch 20, CIFAR-10 Batch 5:  Loss:     0.1891 Validation Accuracy: 0.495800 Train Accuracy: 1.000000\n",
      "Epoch 21, CIFAR-10 Batch 1:  Loss:     0.3502 Validation Accuracy: 0.516800 Train Accuracy: 0.875000\n",
      "Epoch 21, CIFAR-10 Batch 2:  Loss:     0.2052 Validation Accuracy: 0.509000 Train Accuracy: 0.975000\n",
      "Epoch 21, CIFAR-10 Batch 3:  Loss:     0.1996 Validation Accuracy: 0.496200 Train Accuracy: 0.975000\n",
      "Epoch 21, CIFAR-10 Batch 4:  Loss:     0.2041 Validation Accuracy: 0.515200 Train Accuracy: 0.975000\n",
      "Epoch 21, CIFAR-10 Batch 5:  Loss:     0.1532 Validation Accuracy: 0.508200 Train Accuracy: 1.000000\n",
      "Epoch 22, CIFAR-10 Batch 1:  Loss:     0.3196 Validation Accuracy: 0.514400 Train Accuracy: 0.900000\n",
      "Epoch 22, CIFAR-10 Batch 2:  Loss:     0.2360 Validation Accuracy: 0.505800 Train Accuracy: 0.950000\n",
      "Epoch 22, CIFAR-10 Batch 3:  Loss:     0.1346 Validation Accuracy: 0.497000 Train Accuracy: 0.975000\n",
      "Epoch 22, CIFAR-10 Batch 4:  Loss:     0.2498 Validation Accuracy: 0.507400 Train Accuracy: 1.000000\n",
      "Epoch 22, CIFAR-10 Batch 5:  Loss:     0.2050 Validation Accuracy: 0.490200 Train Accuracy: 0.975000\n",
      "Epoch 23, CIFAR-10 Batch 1:  Loss:     0.3183 Validation Accuracy: 0.493000 Train Accuracy: 0.925000\n",
      "Epoch 23, CIFAR-10 Batch 2:  Loss:     0.2784 Validation Accuracy: 0.506800 Train Accuracy: 0.925000\n",
      "Epoch 23, CIFAR-10 Batch 3:  Loss:     0.1505 Validation Accuracy: 0.517000 Train Accuracy: 0.975000\n",
      "Epoch 23, CIFAR-10 Batch 4:  Loss:     0.2289 Validation Accuracy: 0.502000 Train Accuracy: 0.975000\n",
      "Epoch 23, CIFAR-10 Batch 5:  Loss:     0.1689 Validation Accuracy: 0.494000 Train Accuracy: 1.000000\n",
      "Epoch 24, CIFAR-10 Batch 1:  Loss:     0.3486 Validation Accuracy: 0.510000 Train Accuracy: 0.900000\n",
      "Epoch 24, CIFAR-10 Batch 2:  Loss:     0.2308 Validation Accuracy: 0.505400 Train Accuracy: 0.975000\n",
      "Epoch 24, CIFAR-10 Batch 3:  Loss:     0.1503 Validation Accuracy: 0.511200 Train Accuracy: 1.000000\n",
      "Epoch 24, CIFAR-10 Batch 4:  Loss:     0.2199 Validation Accuracy: 0.514400 Train Accuracy: 0.975000\n",
      "Epoch 24, CIFAR-10 Batch 5:  Loss:     0.1254 Validation Accuracy: 0.505600 Train Accuracy: 1.000000\n",
      "Epoch 25, CIFAR-10 Batch 1:  Loss:     0.3013 Validation Accuracy: 0.509000 Train Accuracy: 0.925000\n",
      "Epoch 25, CIFAR-10 Batch 2:  Loss:     0.2130 Validation Accuracy: 0.516200 Train Accuracy: 0.975000\n",
      "Epoch 25, CIFAR-10 Batch 3:  Loss:     0.1227 Validation Accuracy: 0.502600 Train Accuracy: 1.000000\n",
      "Epoch 25, CIFAR-10 Batch 4:  Loss:     0.1737 Validation Accuracy: 0.510800 Train Accuracy: 0.975000\n",
      "Epoch 25, CIFAR-10 Batch 5:  Loss:     0.1015 Validation Accuracy: 0.508800 Train Accuracy: 1.000000\n",
      "Epoch 26, CIFAR-10 Batch 1:  Loss:     0.2764 Validation Accuracy: 0.499000 Train Accuracy: 0.925000\n",
      "Epoch 26, CIFAR-10 Batch 2:  Loss:     0.2054 Validation Accuracy: 0.503800 Train Accuracy: 0.950000\n",
      "Epoch 26, CIFAR-10 Batch 3:  Loss:     0.0888 Validation Accuracy: 0.503400 Train Accuracy: 1.000000\n",
      "Epoch 26, CIFAR-10 Batch 4:  Loss:     0.1642 Validation Accuracy: 0.513800 Train Accuracy: 1.000000\n",
      "Epoch 26, CIFAR-10 Batch 5:  Loss:     0.1134 Validation Accuracy: 0.507800 Train Accuracy: 1.000000\n",
      "Epoch 27, CIFAR-10 Batch 1:  Loss:     0.3097 Validation Accuracy: 0.491400 Train Accuracy: 0.950000\n",
      "Epoch 27, CIFAR-10 Batch 2:  Loss:     0.1856 Validation Accuracy: 0.499800 Train Accuracy: 0.975000\n",
      "Epoch 27, CIFAR-10 Batch 3:  Loss:     0.1284 Validation Accuracy: 0.495800 Train Accuracy: 1.000000\n",
      "Epoch 27, CIFAR-10 Batch 4:  Loss:     0.1317 Validation Accuracy: 0.512000 Train Accuracy: 1.000000\n",
      "Epoch 27, CIFAR-10 Batch 5:  Loss:     0.1119 Validation Accuracy: 0.497200 Train Accuracy: 1.000000\n",
      "Epoch 28, CIFAR-10 Batch 1:  Loss:     0.2677 Validation Accuracy: 0.485800 Train Accuracy: 0.950000\n",
      "Epoch 28, CIFAR-10 Batch 2:  Loss:     0.1941 Validation Accuracy: 0.508200 Train Accuracy: 1.000000\n",
      "Epoch 28, CIFAR-10 Batch 3:  Loss:     0.1169 Validation Accuracy: 0.505600 Train Accuracy: 0.975000\n",
      "Epoch 28, CIFAR-10 Batch 4:  Loss:     0.1740 Validation Accuracy: 0.514400 Train Accuracy: 0.975000\n",
      "Epoch 28, CIFAR-10 Batch 5:  Loss:     0.1575 Validation Accuracy: 0.487000 Train Accuracy: 1.000000\n",
      "Epoch 29, CIFAR-10 Batch 1:  Loss:     0.2251 Validation Accuracy: 0.511600 Train Accuracy: 0.950000\n",
      "Epoch 29, CIFAR-10 Batch 2:  Loss:     0.1885 Validation Accuracy: 0.510400 Train Accuracy: 0.975000\n",
      "Epoch 29, CIFAR-10 Batch 3:  Loss:     0.0678 Validation Accuracy: 0.497600 Train Accuracy: 1.000000\n",
      "Epoch 29, CIFAR-10 Batch 4:  Loss:     0.1650 Validation Accuracy: 0.493600 Train Accuracy: 0.975000\n",
      "Epoch 29, CIFAR-10 Batch 5:  Loss:     0.0939 Validation Accuracy: 0.506600 Train Accuracy: 1.000000\n",
      "Epoch 30, CIFAR-10 Batch 1:  Loss:     0.2230 Validation Accuracy: 0.510400 Train Accuracy: 0.950000\n",
      "Epoch 30, CIFAR-10 Batch 2:  Loss:     0.1616 Validation Accuracy: 0.516200 Train Accuracy: 1.000000\n",
      "Epoch 30, CIFAR-10 Batch 3:  Loss:     0.0488 Validation Accuracy: 0.518400 Train Accuracy: 1.000000\n",
      "Epoch 30, CIFAR-10 Batch 4:  Loss:     0.1061 Validation Accuracy: 0.496000 Train Accuracy: 1.000000\n",
      "Epoch 30, CIFAR-10 Batch 5:  Loss:     0.0913 Validation Accuracy: 0.520400 Train Accuracy: 1.000000\n",
      "Epoch 31, CIFAR-10 Batch 1:  Loss:     0.1826 Validation Accuracy: 0.499200 Train Accuracy: 0.975000\n",
      "Epoch 31, CIFAR-10 Batch 2:  Loss:     0.1112 Validation Accuracy: 0.509200 Train Accuracy: 0.975000\n",
      "Epoch 31, CIFAR-10 Batch 3:  Loss:     0.0535 Validation Accuracy: 0.504800 Train Accuracy: 1.000000\n",
      "Epoch 31, CIFAR-10 Batch 4:  Loss:     0.0964 Validation Accuracy: 0.493000 Train Accuracy: 1.000000\n",
      "Epoch 31, CIFAR-10 Batch 5:  Loss:     0.0983 Validation Accuracy: 0.513600 Train Accuracy: 1.000000\n",
      "Epoch 32, CIFAR-10 Batch 1:  Loss:     0.1657 Validation Accuracy: 0.482600 Train Accuracy: 0.975000\n",
      "Epoch 32, CIFAR-10 Batch 2:  Loss:     0.1603 Validation Accuracy: 0.505800 Train Accuracy: 1.000000\n",
      "Epoch 32, CIFAR-10 Batch 3:  Loss:     0.0406 Validation Accuracy: 0.511200 Train Accuracy: 1.000000\n",
      "Epoch 32, CIFAR-10 Batch 4:  Loss:     0.1026 Validation Accuracy: 0.496600 Train Accuracy: 1.000000\n",
      "Epoch 32, CIFAR-10 Batch 5:  Loss:     0.0766 Validation Accuracy: 0.527000 Train Accuracy: 1.000000\n",
      "Epoch 33, CIFAR-10 Batch 1:  Loss:     0.2179 Validation Accuracy: 0.495600 Train Accuracy: 0.975000\n",
      "Epoch 33, CIFAR-10 Batch 2:  Loss:     0.1661 Validation Accuracy: 0.506200 Train Accuracy: 1.000000\n",
      "Epoch 33, CIFAR-10 Batch 3:  Loss:     0.0647 Validation Accuracy: 0.509800 Train Accuracy: 1.000000\n",
      "Epoch 33, CIFAR-10 Batch 4:  Loss:     0.1017 Validation Accuracy: 0.499200 Train Accuracy: 1.000000\n",
      "Epoch 33, CIFAR-10 Batch 5:  Loss:     0.0886 Validation Accuracy: 0.503400 Train Accuracy: 1.000000\n",
      "Epoch 34, CIFAR-10 Batch 1:  Loss:     0.1949 Validation Accuracy: 0.481800 Train Accuracy: 0.950000\n",
      "Epoch 34, CIFAR-10 Batch 2:  Loss:     0.1852 Validation Accuracy: 0.512600 Train Accuracy: 1.000000\n",
      "Epoch 34, CIFAR-10 Batch 3:  Loss:     0.0621 Validation Accuracy: 0.504200 Train Accuracy: 0.975000\n",
      "Epoch 34, CIFAR-10 Batch 4:  Loss:     0.1190 Validation Accuracy: 0.498200 Train Accuracy: 1.000000\n",
      "Epoch 34, CIFAR-10 Batch 5:  Loss:     0.1005 Validation Accuracy: 0.508800 Train Accuracy: 1.000000\n",
      "Epoch 35, CIFAR-10 Batch 1:  Loss:     0.1627 Validation Accuracy: 0.495000 Train Accuracy: 0.950000\n",
      "Epoch 35, CIFAR-10 Batch 2:  Loss:     0.1466 Validation Accuracy: 0.525200 Train Accuracy: 0.950000\n",
      "Epoch 35, CIFAR-10 Batch 3:  Loss:     0.0654 Validation Accuracy: 0.509400 Train Accuracy: 1.000000\n",
      "Epoch 35, CIFAR-10 Batch 4:  Loss:     0.1184 Validation Accuracy: 0.490800 Train Accuracy: 1.000000\n",
      "Epoch 35, CIFAR-10 Batch 5:  Loss:     0.0611 Validation Accuracy: 0.501600 Train Accuracy: 1.000000\n",
      "Epoch 36, CIFAR-10 Batch 1:  Loss:     0.1567 Validation Accuracy: 0.494000 Train Accuracy: 0.975000\n",
      "Epoch 36, CIFAR-10 Batch 2:  Loss:     0.1557 Validation Accuracy: 0.527600 Train Accuracy: 0.975000\n",
      "Epoch 36, CIFAR-10 Batch 3:  Loss:     0.0698 Validation Accuracy: 0.483800 Train Accuracy: 1.000000\n",
      "Epoch 36, CIFAR-10 Batch 4:  Loss:     0.1375 Validation Accuracy: 0.497400 Train Accuracy: 0.975000\n",
      "Epoch 36, CIFAR-10 Batch 5:  Loss:     0.0664 Validation Accuracy: 0.502000 Train Accuracy: 1.000000\n",
      "Epoch 37, CIFAR-10 Batch 1:  Loss:     0.1067 Validation Accuracy: 0.491400 Train Accuracy: 0.975000\n",
      "Epoch 37, CIFAR-10 Batch 2:  Loss:     0.1100 Validation Accuracy: 0.517200 Train Accuracy: 1.000000\n",
      "Epoch 37, CIFAR-10 Batch 3:  Loss:     0.0869 Validation Accuracy: 0.508600 Train Accuracy: 1.000000\n",
      "Epoch 37, CIFAR-10 Batch 4:  Loss:     0.0941 Validation Accuracy: 0.498200 Train Accuracy: 1.000000\n",
      "Epoch 37, CIFAR-10 Batch 5:  Loss:     0.0613 Validation Accuracy: 0.496600 Train Accuracy: 1.000000\n",
      "Epoch 38, CIFAR-10 Batch 1:  Loss:     0.1214 Validation Accuracy: 0.491800 Train Accuracy: 0.975000\n",
      "Epoch 38, CIFAR-10 Batch 2:  Loss:     0.1023 Validation Accuracy: 0.514200 Train Accuracy: 1.000000\n",
      "Epoch 38, CIFAR-10 Batch 3:  Loss:     0.0505 Validation Accuracy: 0.499400 Train Accuracy: 1.000000\n",
      "Epoch 38, CIFAR-10 Batch 4:  Loss:     0.0599 Validation Accuracy: 0.491400 Train Accuracy: 1.000000\n",
      "Epoch 38, CIFAR-10 Batch 5:  Loss:     0.0543 Validation Accuracy: 0.506400 Train Accuracy: 1.000000\n",
      "Epoch 39, CIFAR-10 Batch 1:  Loss:     0.1077 Validation Accuracy: 0.499000 Train Accuracy: 0.975000\n",
      "Epoch 39, CIFAR-10 Batch 2:  Loss:     0.1038 Validation Accuracy: 0.505200 Train Accuracy: 1.000000\n",
      "Epoch 39, CIFAR-10 Batch 3:  Loss:     0.0491 Validation Accuracy: 0.498200 Train Accuracy: 1.000000\n",
      "Epoch 39, CIFAR-10 Batch 4:  Loss:     0.0895 Validation Accuracy: 0.501200 Train Accuracy: 1.000000\n",
      "Epoch 39, CIFAR-10 Batch 5:  Loss:     0.0494 Validation Accuracy: 0.512200 Train Accuracy: 1.000000\n",
      "Epoch 40, CIFAR-10 Batch 1:  Loss:     0.0912 Validation Accuracy: 0.496600 Train Accuracy: 0.975000\n",
      "Epoch 40, CIFAR-10 Batch 2:  Loss:     0.1180 Validation Accuracy: 0.501000 Train Accuracy: 0.975000\n",
      "Epoch 40, CIFAR-10 Batch 3:  Loss:     0.0631 Validation Accuracy: 0.493000 Train Accuracy: 1.000000\n",
      "Epoch 40, CIFAR-10 Batch 4:  Loss:     0.1085 Validation Accuracy: 0.494600 Train Accuracy: 0.950000\n",
      "Epoch 40, CIFAR-10 Batch 5:  Loss:     0.0286 Validation Accuracy: 0.506600 Train Accuracy: 1.000000\n",
      "Epoch 41, CIFAR-10 Batch 1:  Loss:     0.1100 Validation Accuracy: 0.489600 Train Accuracy: 0.975000\n",
      "Epoch 41, CIFAR-10 Batch 2:  Loss:     0.0966 Validation Accuracy: 0.508600 Train Accuracy: 1.000000\n",
      "Epoch 41, CIFAR-10 Batch 3:  Loss:     0.0303 Validation Accuracy: 0.499200 Train Accuracy: 1.000000\n",
      "Epoch 41, CIFAR-10 Batch 4:  Loss:     0.1144 Validation Accuracy: 0.493600 Train Accuracy: 1.000000\n",
      "Epoch 41, CIFAR-10 Batch 5:  Loss:     0.0324 Validation Accuracy: 0.508800 Train Accuracy: 1.000000\n",
      "Epoch 42, CIFAR-10 Batch 1:  Loss:     0.0823 Validation Accuracy: 0.500400 Train Accuracy: 0.975000\n",
      "Epoch 42, CIFAR-10 Batch 2:  Loss:     0.0791 Validation Accuracy: 0.497000 Train Accuracy: 1.000000\n",
      "Epoch 42, CIFAR-10 Batch 3:  Loss:     0.0498 Validation Accuracy: 0.505000 Train Accuracy: 1.000000\n",
      "Epoch 42, CIFAR-10 Batch 4:  Loss:     0.0900 Validation Accuracy: 0.491400 Train Accuracy: 1.000000\n",
      "Epoch 42, CIFAR-10 Batch 5:  Loss:     0.0377 Validation Accuracy: 0.509600 Train Accuracy: 1.000000\n",
      "Epoch 43, CIFAR-10 Batch 1:  Loss:     0.0930 Validation Accuracy: 0.493600 Train Accuracy: 1.000000\n",
      "Epoch 43, CIFAR-10 Batch 2:  Loss:     0.0890 Validation Accuracy: 0.505600 Train Accuracy: 0.975000\n",
      "Epoch 43, CIFAR-10 Batch 3:  Loss:     0.0218 Validation Accuracy: 0.508000 Train Accuracy: 1.000000\n",
      "Epoch 43, CIFAR-10 Batch 4:  Loss:     0.1080 Validation Accuracy: 0.507400 Train Accuracy: 1.000000\n",
      "Epoch 43, CIFAR-10 Batch 5:  Loss:     0.0373 Validation Accuracy: 0.519200 Train Accuracy: 1.000000\n",
      "Epoch 44, CIFAR-10 Batch 1:  Loss:     0.0811 Validation Accuracy: 0.483400 Train Accuracy: 0.950000\n",
      "Epoch 44, CIFAR-10 Batch 2:  Loss:     0.0793 Validation Accuracy: 0.503200 Train Accuracy: 1.000000\n",
      "Epoch 44, CIFAR-10 Batch 3:  Loss:     0.0128 Validation Accuracy: 0.506200 Train Accuracy: 1.000000\n",
      "Epoch 44, CIFAR-10 Batch 4:  Loss:     0.0656 Validation Accuracy: 0.487400 Train Accuracy: 1.000000\n",
      "Epoch 44, CIFAR-10 Batch 5:  Loss:     0.0310 Validation Accuracy: 0.512400 Train Accuracy: 1.000000\n",
      "Epoch 45, CIFAR-10 Batch 1:  Loss:     0.0754 Validation Accuracy: 0.483200 Train Accuracy: 1.000000\n",
      "Epoch 45, CIFAR-10 Batch 2:  Loss:     0.0877 Validation Accuracy: 0.499600 Train Accuracy: 1.000000\n",
      "Epoch 45, CIFAR-10 Batch 3:  Loss:     0.0154 Validation Accuracy: 0.501600 Train Accuracy: 1.000000\n",
      "Epoch 45, CIFAR-10 Batch 4:  Loss:     0.1046 Validation Accuracy: 0.490400 Train Accuracy: 0.975000\n",
      "Epoch 45, CIFAR-10 Batch 5:  Loss:     0.0555 Validation Accuracy: 0.510400 Train Accuracy: 1.000000\n",
      "Epoch 46, CIFAR-10 Batch 1:  Loss:     0.0954 Validation Accuracy: 0.481000 Train Accuracy: 0.975000\n",
      "Epoch 46, CIFAR-10 Batch 2:  Loss:     0.0737 Validation Accuracy: 0.510600 Train Accuracy: 1.000000\n",
      "Epoch 46, CIFAR-10 Batch 3:  Loss:     0.0150 Validation Accuracy: 0.510400 Train Accuracy: 1.000000\n",
      "Epoch 46, CIFAR-10 Batch 4:  Loss:     0.0639 Validation Accuracy: 0.488400 Train Accuracy: 0.975000\n",
      "Epoch 46, CIFAR-10 Batch 5:  Loss:     0.0322 Validation Accuracy: 0.507400 Train Accuracy: 1.000000\n",
      "Epoch 47, CIFAR-10 Batch 1:  Loss:     0.0524 Validation Accuracy: 0.474000 Train Accuracy: 1.000000\n",
      "Epoch 47, CIFAR-10 Batch 2:  Loss:     0.0538 Validation Accuracy: 0.510200 Train Accuracy: 1.000000\n",
      "Epoch 47, CIFAR-10 Batch 3:  Loss:     0.0084 Validation Accuracy: 0.516600 Train Accuracy: 1.000000\n",
      "Epoch 47, CIFAR-10 Batch 4:  Loss:     0.0691 Validation Accuracy: 0.499800 Train Accuracy: 0.975000\n",
      "Epoch 47, CIFAR-10 Batch 5:  Loss:     0.0280 Validation Accuracy: 0.508800 Train Accuracy: 1.000000\n",
      "Epoch 48, CIFAR-10 Batch 1:  Loss:     0.0421 Validation Accuracy: 0.495600 Train Accuracy: 1.000000\n",
      "Epoch 48, CIFAR-10 Batch 2:  Loss:     0.0337 Validation Accuracy: 0.510600 Train Accuracy: 1.000000\n",
      "Epoch 48, CIFAR-10 Batch 3:  Loss:     0.0148 Validation Accuracy: 0.522800 Train Accuracy: 1.000000\n",
      "Epoch 48, CIFAR-10 Batch 4:  Loss:     0.0694 Validation Accuracy: 0.505000 Train Accuracy: 1.000000\n",
      "Epoch 48, CIFAR-10 Batch 5:  Loss:     0.0637 Validation Accuracy: 0.515800 Train Accuracy: 1.000000\n",
      "Epoch 49, CIFAR-10 Batch 1:  Loss:     0.0504 Validation Accuracy: 0.485600 Train Accuracy: 1.000000\n",
      "Epoch 49, CIFAR-10 Batch 2:  Loss:     0.0481 Validation Accuracy: 0.511800 Train Accuracy: 1.000000\n",
      "Epoch 49, CIFAR-10 Batch 3:  Loss:     0.0362 Validation Accuracy: 0.505800 Train Accuracy: 1.000000\n",
      "Epoch 49, CIFAR-10 Batch 4:  Loss:     0.0713 Validation Accuracy: 0.503600 Train Accuracy: 1.000000\n",
      "Epoch 49, CIFAR-10 Batch 5:  Loss:     0.0488 Validation Accuracy: 0.517200 Train Accuracy: 1.000000\n",
      "Epoch 50, CIFAR-10 Batch 1:  Loss:     0.0624 Validation Accuracy: 0.490400 Train Accuracy: 1.000000\n",
      "Epoch 50, CIFAR-10 Batch 2:  Loss:     0.0736 Validation Accuracy: 0.509200 Train Accuracy: 1.000000\n",
      "Epoch 50, CIFAR-10 Batch 3:  Loss:     0.0387 Validation Accuracy: 0.509000 Train Accuracy: 1.000000\n",
      "Epoch 50, CIFAR-10 Batch 4:  Loss:     0.0530 Validation Accuracy: 0.510000 Train Accuracy: 1.000000\n",
      "Epoch 50, CIFAR-10 Batch 5:  Loss:     0.0327 Validation Accuracy: 0.509000 Train Accuracy: 1.000000\n"
     ]
    }
   ],
   "source": [
    "\"\"\"\n",
    "DON'T MODIFY ANYTHING IN THIS CELL\n",
    "\"\"\"\n",
    "save_model_path = './image_classification'\n",
    "\n",
    "print('Training...')\n",
    "with tf.Session() as sess:\n",
    "    # Initializing the variables\n",
    "    sess.run(tf.global_variables_initializer())\n",
    "    \n",
    "    # Training cycle\n",
    "    for epoch in range(epochs):\n",
    "        # Loop over all batches\n",
    "        n_batches = 5\n",
    "        for batch_i in range(1, n_batches + 1):\n",
    "            for batch_features, batch_labels in helper.load_preprocess_training_batch(batch_i, batch_size):\n",
    "                train_neural_network(sess, optimizer, keep_probability, batch_features, batch_labels)\n",
    "            print('Epoch {:>2}, CIFAR-10 Batch {}:  '.format(epoch + 1, batch_i), end='')\n",
    "            print_stats(sess, batch_features, batch_labels, cost, accuracy)\n",
    "            \n",
    "    # Save Model\n",
    "    saver = tf.train.Saver()\n",
    "    save_path = saver.save(sess, save_model_path)"
   ]
  },
  {
   "cell_type": "markdown",
   "metadata": {
    "deletable": true,
    "editable": true
   },
   "source": [
    "# Checkpoint\n",
    "The model has been saved to disk.\n",
    "## Test Model\n",
    "Test your model against the test dataset.  This will be your final accuracy. You should have an accuracy greater than 50%. If you don't, keep tweaking the model architecture and parameters."
   ]
  },
  {
   "cell_type": "code",
   "execution_count": 18,
   "metadata": {
    "collapsed": false,
    "deletable": true,
    "editable": true
   },
   "outputs": [
    {
     "name": "stdout",
     "output_type": "stream",
     "text": [
      "Testing Accuracy: 0.5142578125\n",
      "\n"
     ]
    },
    {
     "data": {
      "image/png": "[encoded data removed]",
      "text/plain": [
       "<matplotlib.figure.Figure at 0x7fc8ffdc43c8>"
      ]
     },
     "metadata": {
      "image/png": {
       "height": 319,
       "width": 355
      }
     },
     "output_type": "display_data"
    }
   ],
   "source": [
    "\"\"\"\n",
    "DON'T MODIFY ANYTHING IN THIS CELL\n",
    "\"\"\"\n",
    "%matplotlib inline\n",
    "%config InlineBackend.figure_format = 'retina'\n",
    "\n",
    "import tensorflow as tf\n",
    "import pickle\n",
    "import helper\n",
    "import random\n",
    "\n",
    "# Set batch size if not already set\n",
    "try:\n",
    "    if batch_size:\n",
    "        pass\n",
    "except NameError:\n",
    "    batch_size = 64\n",
    "\n",
    "save_model_path = './image_classification'\n",
    "n_samples = 4\n",
    "top_n_predictions = 3\n",
    "\n",
    "def test_model():\n",
    "    \"\"\"\n",
    "    Test the saved model against the test dataset\n",
    "    \"\"\"\n",
    "\n",
    "    test_features, test_labels = pickle.load(open('preprocess_test.p', mode='rb'))\n",
    "    loaded_graph = tf.Graph()\n",
    "\n",
    "    with tf.Session(graph=loaded_graph) as sess:\n",
    "        # Load model\n",
    "        loader = tf.train.import_meta_graph(save_model_path + '.meta')\n",
    "        loader.restore(sess, save_model_path)\n",
    "\n",
    "        # Get Tensors from loaded model\n",
    "        loaded_x = loaded_graph.get_tensor_by_name('x:0')\n",
    "        loaded_y = loaded_graph.get_tensor_by_name('y:0')\n",
    "        loaded_keep_prob = loaded_graph.get_tensor_by_name('keep_prob:0')\n",
    "        loaded_logits = loaded_graph.get_tensor_by_name('logits:0')\n",
    "        loaded_acc = loaded_graph.get_tensor_by_name('accuracy:0')\n",
    "        \n",
    "        # Get accuracy in batches for memory limitations\n",
    "        test_batch_acc_total = 0\n",
    "        test_batch_count = 0\n",
    "        \n",
    "        for test_feature_batch, test_label_batch in helper.batch_features_labels(test_features, test_labels, batch_size):\n",
    "            test_batch_acc_total += sess.run(\n",
    "                loaded_acc,\n",
    "                feed_dict={loaded_x: test_feature_batch, loaded_y: test_label_batch, loaded_keep_prob: 1.0})\n",
    "            test_batch_count += 1\n",
    "\n",
    "        print('Testing Accuracy: {}\\n'.format(test_batch_acc_total/test_batch_count))\n",
    "\n",
    "        # Print Random Samples\n",
    "        random_test_features, random_test_labels = tuple(zip(*random.sample(list(zip(test_features, test_labels)), n_samples)))\n",
    "        random_test_predictions = sess.run(\n",
    "            tf.nn.top_k(tf.nn.softmax(loaded_logits), top_n_predictions),\n",
    "            feed_dict={loaded_x: random_test_features, loaded_y: random_test_labels, loaded_keep_prob: 1.0})\n",
    "        helper.display_image_predictions(random_test_features, random_test_labels, random_test_predictions)\n",
    "\n",
    "\n",
    "test_model()"
   ]
  },
  {
   "cell_type": "markdown",
   "metadata": {
    "deletable": true,
    "editable": true
   },
   "source": [
    "## Why 50-80% Accuracy?\n",
    "You might be wondering why you can't get an accuracy any higher. First things first, 50% isn't bad for a simple CNN.  Pure guessing would get you 10% accuracy. However, you might notice people are getting scores [well above 80%](http://rodrigob.github.io/are_we_there_yet/build/classification_datasets_results.html#43494641522d3130).  That's because we haven't taught you all there is to know about neural networks. We still need to cover a few more techniques.\n",
    "## Submitting This Project\n",
    "When submitting this project, make sure to run all the cells before saving the notebook.  Save the notebook file as \"dlnd_image_classification.ipynb\" and save it as a HTML file under \"File\" -> \"Download as\".  Include the \"helper.py\" and \"problem_unittests.py\" files in your submission."
   ]
  }
 ],
 "metadata": {
  "kernelspec": {
   "display_name": "Python 3",
   "language": "python",
   "name": "python3"
  },
  "language_info": {
   "codemirror_mode": {
    "name": "ipython",
    "version": 3
   },
   "file_extension": ".py",
   "mimetype": "text/x-python",
   "name": "python",
   "nbconvert_exporter": "python",
   "pygments_lexer": "ipython3",
   "version": "3.5.3"
  }
 },
 "nbformat": 4,
 "nbformat_minor": 1
}
